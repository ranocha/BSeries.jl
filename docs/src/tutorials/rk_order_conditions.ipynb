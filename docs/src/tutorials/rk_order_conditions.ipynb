{
 "cells": [
  {
   "cell_type": "markdown",
   "id": "0a2e5164",
   "metadata": {},
   "source": [
    "# Runge-Kutta Order conditions"
   ]
  },
  {
   "cell_type": "markdown",
   "id": "69a70889",
   "metadata": {},
   "source": [
    "In this tutorial, we generate order conditions for a generic explicit Runge-Kutta method.\n",
    "\n",
    "First, we create symbolic coefficient arrays with the appropriate structure.  There are several symbolic packages you can use. Here, we will use SymPy.jl."
   ]
  },
  {
   "cell_type": "code",
   "execution_count": null,
   "id": "7940d9a6",
   "metadata": {},
   "outputs": [],
   "source": [
    "using BSeries, SymPy, Latexify\n",
    "\n",
    "s = 4  # Stages\n",
    "p = 4  # Desired order of accuracy\n",
    "\n",
    "A = Array{Sym,2}(undef,s,s)\n",
    "b = Array{Sym,1}(undef,s)\n",
    "c = Array{Sym,1}(undef,s);"
   ]
  },
  {
   "cell_type": "code",
   "execution_count": null,
   "id": "eeb0794f",
   "metadata": {},
   "outputs": [],
   "source": [
    "for i = 1:s\n",
    "    b[i] = symbols(\"b$i\", real=true)\n",
    "    for j = 1:i-1\n",
    "        A[i,j] = symbols(\"a$i$j\", real=true)\n",
    "    end\n",
    "    for j = i:s\n",
    "        A[i,j] = 0\n",
    "    end\n",
    "end\n",
    "\n",
    "for i = 1:s\n",
    "    c[i] = 0\n",
    "    for j = 1:i-1\n",
    "        c[i] += A[i,j]\n",
    "    end\n",
    "end"
   ]
  },
  {
   "cell_type": "markdown",
   "id": "b75b9038",
   "metadata": {},
   "source": [
    "Next we generate the B-series for the RK method and the exact solution, and take their difference."
   ]
  },
  {
   "cell_type": "code",
   "execution_count": null,
   "id": "608bf437",
   "metadata": {},
   "outputs": [],
   "source": [
    "RK3 = bseries(A, b, c, p)\n",
    "exact = ExactSolution(RK3)\n",
    "error = RK3-exact"
   ]
  },
  {
   "cell_type": "markdown",
   "id": "8bbe22f3",
   "metadata": {},
   "source": [
    "The output above is truncated in the Jupyter notebook.  We can see the full expressions as follows:"
   ]
  },
  {
   "cell_type": "code",
   "execution_count": null,
   "id": "fa6cb9ef",
   "metadata": {},
   "outputs": [],
   "source": [
    "for (tree,order_condition) in error\n",
    "    println(order_condition)\n",
    "end"
   ]
  }
 ],
 "metadata": {
  "kernelspec": {
   "display_name": "Julia 1.7.2",
   "language": "julia",
   "name": "julia-1.7"
  },
  "language_info": {
   "file_extension": ".jl",
   "mimetype": "application/julia",
   "name": "julia",
   "version": "1.7.2"
  }
 },
 "nbformat": 4,
 "nbformat_minor": 5
}
