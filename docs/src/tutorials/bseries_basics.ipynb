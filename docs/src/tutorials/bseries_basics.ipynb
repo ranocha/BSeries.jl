{
 "cells": [
  {
   "cell_type": "markdown",
   "metadata": {},
   "source": [
    "In this notebook we use `bseries.jl` to investigate error expansions for RK methods applied to specific problems."
   ]
  },
  {
   "cell_type": "code",
   "execution_count": 13,
   "metadata": {},
   "outputs": [],
   "source": [
    "# Load the packages we will use.  These must first be installed using: import Pkg; Pkg.add(\"package_name\")\n",
    "using BSeries\n",
    "using Latexify\n",
    "using RootedTrees\n",
    "using Symbolics\n",
    "import SymPy; sp=SymPy;"
   ]
  },
  {
   "cell_type": "markdown",
   "metadata": {},
   "source": [
    "# B-Series for a generic ODE"
   ]
  },
  {
   "cell_type": "markdown",
   "metadata": {},
   "source": [
    "First we specify the Butcher coefficients of the RK method.  This can include symbolic expressions and parameterized families of methods.  Here is a generic 2-stage, 2nd-order method."
   ]
  },
  {
   "cell_type": "code",
   "execution_count": 14,
   "metadata": {},
   "outputs": [
    {
     "data": {
      "text/latex": [
       "$F_{f}\\mathopen{}\\left( \\varnothing \\right)\\mathclose{} + h F_{f}\\mathopen{}\\left( \\rootedtree[] \\right)\\mathclose{} + \\frac{h^{2}}{2} F_{f}\\mathopen{}\\left( \\rootedtree[[]] \\right)\\mathclose{} + \\frac{h^{3}}{8 \\alpha} F_{f}\\mathopen{}\\left( \\rootedtree[[][]] \\right)\\mathclose{}$"
      ],
      "text/plain": [
       "L\"$F_{f}\\mathopen{}\\left( \\varnothing \\right)\\mathclose{} + h F_{f}\\mathopen{}\\left( \\rootedtree[] \\right)\\mathclose{} + \\frac{h^{2}}{2} F_{f}\\mathopen{}\\left( \\rootedtree[[]] \\right)\\mathclose{} + \\frac{h^{3}}{8 \\alpha} F_{f}\\mathopen{}\\left( \\rootedtree[[][]] \\right)\\mathclose{}$\""
      ]
     },
     "execution_count": 14,
     "metadata": {},
     "output_type": "execute_result"
    }
   ],
   "source": [
    "α = sp.symbols(\"α\", real=true)\n",
    "A = [0 0; 1/(2*α) 0]; b = [1-α, α]; c = [0, 1/(2*α)]\n",
    "coeffs2 = bseries(A,b,c,3)\n",
    "latexify(coeffs2, cdot=false)"
   ]
  },
  {
   "cell_type": "markdown",
   "metadata": {},
   "source": [
    "We have generated the B-series up to terms of order $h^3$.  The terms $F_f()$ represent elementary differentials, which are products of derivatives of the ODE right-hand side.  Since we haven't specified an ODE, these are indicated simply by the associated rooted tree.  The rooted trees are printed as nested lists, essentially in the form used in Butcher's book.  The rooted trees written in this way can be rendered in LaTex using the package `forest`; unfortunately, there is no easy way to render them in the browser.\n",
    "\n",
    "Here is a B-series for a 4th-order method, expanded up to 5th-order terms:"
   ]
  },
  {
   "cell_type": "code",
   "execution_count": 15,
   "metadata": {},
   "outputs": [
    {
     "data": {
      "text/latex": [
       "$F_{f}\\mathopen{}\\left( \\varnothing \\right)\\mathclose{} + h F_{f}\\mathopen{}\\left( \\rootedtree[] \\right)\\mathclose{} + \\frac{1}{2} h^{2} F_{f}\\mathopen{}\\left( \\rootedtree[[]] \\right)\\mathclose{} + \\frac{1}{6} h^{3} F_{f}\\mathopen{}\\left( \\rootedtree[[[]]] \\right)\\mathclose{} + \\frac{1}{6} h^{3} F_{f}\\mathopen{}\\left( \\rootedtree[[][]] \\right)\\mathclose{} + \\frac{1}{24} h^{4} F_{f}\\mathopen{}\\left( \\rootedtree[[[[]]]] \\right)\\mathclose{} + \\frac{1}{24} h^{4} F_{f}\\mathopen{}\\left( \\rootedtree[[[][]]] \\right)\\mathclose{} + \\frac{1}{8} h^{4} F_{f}\\mathopen{}\\left( \\rootedtree[[[]][]] \\right)\\mathclose{} + \\frac{1}{24} h^{4} F_{f}\\mathopen{}\\left( \\rootedtree[[][][]] \\right)\\mathclose{} + \\frac{1}{48} h^{5} F_{f}\\mathopen{}\\left( \\rootedtree[[[[[]]]]] \\right)\\mathclose{} + \\frac{1}{48} h^{5} F_{f}\\mathopen{}\\left( \\rootedtree[[[[][]]]] \\right)\\mathclose{} + \\frac{1}{16} h^{5} F_{f}\\mathopen{}\\left( \\rootedtree[[[[]][]]] \\right)\\mathclose{} + \\frac{-21246894637}{49670350848} h^{5} F_{f}\\mathopen{}\\left( \\rootedtree[[[[]]][]] \\right)\\mathclose{} + \\frac{1}{48} h^{5} F_{f}\\mathopen{}\\left( \\rootedtree[[[][][]]] \\right)\\mathclose{} + \\frac{-722476128287}{1390769823744} h^{5} F_{f}\\mathopen{}\\left( \\rootedtree[[[][]][]] \\right)\\mathclose{} + \\frac{1970748171909370823}{42730909364772720000} h^{5} F_{f}\\mathopen{}\\left( \\rootedtree[[[]][[]]] \\right)\\mathclose{} + \\frac{3898363669}{40242182400} h^{5} F_{f}\\mathopen{}\\left( \\rootedtree[[[]][][]] \\right)\\mathclose{} + \\frac{1}{48} h^{5} F_{f}\\mathopen{}\\left( \\rootedtree[[][][][]] \\right)\\mathclose{}$"
      ],
      "text/plain": [
       "\"\\$F_{f}\\\\mathopen{}\\\\left( \\\\varnothing \\\\right)\\\\mathclose{} + h F_{f}\\\\mathopen{}\\\\left( \\\\rootedtree[] \\\\right)\\\\mathclose{} + \\\\frac{1}{2} h^{2} F_{f}\\\\mathopen{}\\\\left( \\\\rootedtree[[]] \\\\right)\\\\mathclose{} + \\\\frac{1}{6} h^{3} F_{f}\\\\mathopen{}\\\\left( \\\\rootedtree[[[]]] \\\\right)\\\\mathc\" ⋯ 1024 bytes ⋯ \"2720000} h^{5} F_{f}\\\\mathopen{}\\\\left( \\\\rootedtree[[[]][[]]] \\\\right)\\\\mathclose{} + \\\\frac{3898363669}{40242182400} h^{5} F_{f}\\\\mathopen{}\\\\left( \\\\rootedtree[[[]][][]] \\\\right)\\\\mathclose{} + \\\\frac{1}{48} h^{5} F_{f}\\\\mathopen{}\\\\left( \\\\rootedtree[[][][][]] \\\\right)\\\\mathclose{}\\$\""
      ]
     },
     "execution_count": 15,
     "metadata": {},
     "output_type": "execute_result"
    }
   ],
   "source": [
    "A = Rational{Int128}[0 0 0 0 0 0 0 0;(-1//6) (1//2) 0 0 0 0 0 0;(-1//10) (1//10) (1//2) 0 0 0 0 0;(-21463//39375) (21017//26250) (-5//9) (1//2) 0 0 0 0;(-59588//54675) (118717//36450) (-4375//2187) 0 (1//2) 0 0 0;(-19993033//9443328) (28508695//3147776) (-13577105//2360832) (-4090625//3147776) (1136025//3147776) (1//2) 0 0;(367020141781//199294617600) (814214904871//22143846400) (-29834937659//1992946176) (-1983358776875//87689631744) (-6702625935//885753856) (688576//109395) (1//2) 0;(1081252805//134140608) (2639189439//74522560) (33646441//4191894) (-7873511875//210792384) (-504040617//14904512) (2110843561//115277085) (13//7) (1//2)];\n",
    "b = Rational{Int128}[(1081252805//134140608),(2639189439//74522560),(33646441//4191894),(-7873511875//210792384),(-504040617//14904512),(2110843561//115277085),(13//7),(1//2)];\n",
    "c = Rational{Int128}[0,(1//3),(1//2),(1//5),(2//3),(3//4),(1//4),1];\n",
    "\n",
    "coeffs4 = bseries(A,b,c,5)\n",
    "latexify(coeffs4, cdot=false)"
   ]
  },
  {
   "cell_type": "markdown",
   "metadata": {},
   "source": [
    "We can also print out the B-series coefficients this way:"
   ]
  },
  {
   "cell_type": "code",
   "execution_count": 16,
   "metadata": {},
   "outputs": [
    {
     "data": {
      "text/plain": [
       "TruncatedBSeries{RootedTree{Int64, Vector{Int64}}, Rational{Int128}} with 18 entries:\n",
       "  RootedTree{Int64}: Int64[]         => 1//1\n",
       "  RootedTree{Int64}: [1]             => 1//1\n",
       "  RootedTree{Int64}: [1, 2]          => 1//2\n",
       "  RootedTree{Int64}: [1, 2, 3]       => 1//6\n",
       "  RootedTree{Int64}: [1, 2, 2]       => 1//3\n",
       "  RootedTree{Int64}: [1, 2, 3, 4]    => 1//24\n",
       "  RootedTree{Int64}: [1, 2, 3, 3]    => 1//12\n",
       "  RootedTree{Int64}: [1, 2, 3, 2]    => 1//8\n",
       "  RootedTree{Int64}: [1, 2, 2, 2]    => 1//4\n",
       "  RootedTree{Int64}: [1, 2, 3, 4, 5] => 1//48\n",
       "  RootedTree{Int64}: [1, 2, 3, 4, 4] => 1//24\n",
       "  RootedTree{Int64}: [1, 2, 3, 4, 3] => 1//16\n",
       "  RootedTree{Int64}: [1, 2, 3, 4, 2] => -21246894637//49670350848\n",
       "  RootedTree{Int64}: [1, 2, 3, 3, 3] => 1//8\n",
       "  RootedTree{Int64}: [1, 2, 3, 3, 2] => -722476128287//695384911872\n",
       "  RootedTree{Int64}: [1, 2, 3, 2, 3] => 1970748171909370823//213654546823863600…\n",
       "  RootedTree{Int64}: [1, 2, 3, 2, 2] => 3898363669//20121091200\n",
       "  RootedTree{Int64}: [1, 2, 2, 2, 2] => 1//2"
      ]
     },
     "execution_count": 16,
     "metadata": {},
     "output_type": "execute_result"
    }
   ],
   "source": [
    "coeffs4"
   ]
  },
  {
   "cell_type": "markdown",
   "metadata": {},
   "source": [
    "In this form, the rooted trees are printed as level sequences.  The corresponding coefficients are on the right."
   ]
  },
  {
   "cell_type": "markdown",
   "metadata": {},
   "source": [
    "# Exact series and local error"
   ]
  },
  {
   "cell_type": "markdown",
   "metadata": {},
   "source": [
    "We can also get the B-series of the exact solution:"
   ]
  },
  {
   "cell_type": "code",
   "execution_count": 17,
   "metadata": {},
   "outputs": [
    {
     "data": {
      "text/plain": [
       "TruncatedBSeries{RootedTree{Int64, Vector{Int64}}, Rational{Int128}} with 18 entries:\n",
       "  RootedTree{Int64}: Int64[]         => 1//1\n",
       "  RootedTree{Int64}: [1]             => 1//1\n",
       "  RootedTree{Int64}: [1, 2]          => 1//2\n",
       "  RootedTree{Int64}: [1, 2, 3]       => 1//6\n",
       "  RootedTree{Int64}: [1, 2, 2]       => 1//3\n",
       "  RootedTree{Int64}: [1, 2, 3, 4]    => 1//24\n",
       "  RootedTree{Int64}: [1, 2, 3, 3]    => 1//12\n",
       "  RootedTree{Int64}: [1, 2, 3, 2]    => 1//8\n",
       "  RootedTree{Int64}: [1, 2, 2, 2]    => 1//4\n",
       "  RootedTree{Int64}: [1, 2, 3, 4, 5] => 1//120\n",
       "  RootedTree{Int64}: [1, 2, 3, 4, 4] => 1//60\n",
       "  RootedTree{Int64}: [1, 2, 3, 4, 3] => 1//40\n",
       "  RootedTree{Int64}: [1, 2, 3, 4, 2] => 1//30\n",
       "  RootedTree{Int64}: [1, 2, 3, 3, 3] => 1//20\n",
       "  RootedTree{Int64}: [1, 2, 3, 3, 2] => 1//15\n",
       "  RootedTree{Int64}: [1, 2, 3, 2, 3] => 1//20\n",
       "  RootedTree{Int64}: [1, 2, 3, 2, 2] => 1//10\n",
       "  RootedTree{Int64}: [1, 2, 2, 2, 2] => 1//5"
      ]
     },
     "execution_count": 17,
     "metadata": {},
     "output_type": "execute_result"
    }
   ],
   "source": [
    "coeffs_ex = ExactSolution(coeffs4)"
   ]
  },
  {
   "cell_type": "code",
   "execution_count": 50,
   "metadata": {},
   "outputs": [
    {
     "data": {
      "text/latex": [
       "$F_{f}\\mathopen{}\\left( \\varnothing \\right)\\mathclose{} + h F_{f}\\mathopen{}\\left( \\rootedtree[] \\right)\\mathclose{} + 0.5 h^{2} F_{f}\\mathopen{}\\left( \\rootedtree[[]] \\right)\\mathclose{} + 0.16666666666666666 h^{3} F_{f}\\mathopen{}\\left( \\rootedtree[[[]]] \\right)\\mathclose{} + 0.16666666666666666 h^{3} F_{f}\\mathopen{}\\left( \\rootedtree[[][]] \\right)\\mathclose{} + 0.041666666666666664 h^{4} F_{f}\\mathopen{}\\left( \\rootedtree[[[[]]]] \\right)\\mathclose{} + 0.041666666666666664 h^{4} F_{f}\\mathopen{}\\left( \\rootedtree[[[][]]] \\right)\\mathclose{} + 0.125 h^{4} F_{f}\\mathopen{}\\left( \\rootedtree[[[]][]] \\right)\\mathclose{} + 0.041666666666666664 h^{4} F_{f}\\mathopen{}\\left( \\rootedtree[[][][]] \\right)\\mathclose{} + 0.008333333333333333 h^{5} F_{f}\\mathopen{}\\left( \\rootedtree[[[[[]]]]] \\right)\\mathclose{} + 0.008333333333333333 h^{5} F_{f}\\mathopen{}\\left( \\rootedtree[[[[][]]]] \\right)\\mathclose{} + 0.025 h^{5} F_{f}\\mathopen{}\\left( \\rootedtree[[[[]][]]] \\right)\\mathclose{} + 0.03333333333333333 h^{5} F_{f}\\mathopen{}\\left( \\rootedtree[[[[]]][]] \\right)\\mathclose{} + 0.008333333333333333 h^{5} F_{f}\\mathopen{}\\left( \\rootedtree[[[][][]]] \\right)\\mathclose{} + 0.03333333333333333 h^{5} F_{f}\\mathopen{}\\left( \\rootedtree[[[][]][]] \\right)\\mathclose{} + 0.025 h^{5} F_{f}\\mathopen{}\\left( \\rootedtree[[[]][[]]] \\right)\\mathclose{} + 0.05 h^{5} F_{f}\\mathopen{}\\left( \\rootedtree[[[]][][]] \\right)\\mathclose{} + 0.008333333333333333 h^{5} F_{f}\\mathopen{}\\left( \\rootedtree[[][][][]] \\right)\\mathclose{}$"
      ],
      "text/plain": [
       "L\"$F_{f}\\mathopen{}\\left( \\varnothing \\right)\\mathclose{} + h F_{f}\\mathopen{}\\left( \\rootedtree[] \\right)\\mathclose{} + 0.5 h^{2} F_{f}\\mathopen{}\\left( \\rootedtree[[]] \\right)\\mathclose{} + 0.16666666666666666 h^{3} F_{f}\\mathopen{}\\left( \\rootedtree[[[]]] \\right)\\mathclose{} + 0.16666666666666666 h^{3} F_{f}\\mathopen{}\\left( \\rootedtree[[][]] \\right)\\mathclose{} + 0.041666666666666664 h^{4} F_{f}\\mathopen{}\\left( \\rootedtree[[[[]]]] \\right)\\mathclose{} + 0.041666666666666664 h^{4} F_{f}\\mathopen{}\\left( \\rootedtree[[[][]]] \\right)\\mathclose{} + 0.125 h^{4} F_{f}\\mathopen{}\\left( \\rootedtree[[[]][]] \\right)\\mathclose{} + 0.041666666666666664 h^{4} F_{f}\\mathopen{}\\left( \\rootedtree[[][][]] \\right)\\mathclose{} + 0.008333333333333333 h^{5} F_{f}\\mathopen{}\\left( \\rootedtree[[[[[]]]]] \\right)\\mathclose{} + 0.008333333333333333 h^{5} F_{f}\\mathopen{}\\left( \\rootedtree[[[[][]]]] \\right)\\mathclose{} + 0.025 h^{5} F_{f}\\mathopen{}\\left( \\rootedtree[[[[]][]]] \\right)\\mathclose{} + 0.03333333333333333 h^{5} F_{f}\\mathopen{}\\left( \\rootedtree[[[[]]][]] \\right)\\mathclose{} + 0.008333333333333333 h^{5} F_{f}\\mathopen{}\\left( \\rootedtree[[[][][]]] \\right)\\mathclose{} + 0.03333333333333333 h^{5} F_{f}\\mathopen{}\\left( \\rootedtree[[[][]][]] \\right)\\mathclose{} + 0.025 h^{5} F_{f}\\mathopen{}\\left( \\rootedtree[[[]][[]]] \\right)\\mathclose{} + 0.05 h^{5} F_{f}\\mathopen{}\\left( \\rootedtree[[[]][][]] \\right)\\mathclose{} + 0.008333333333333333 h^{5} F_{f}\\mathopen{}\\left( \\rootedtree[[][][][]] \\right)\\mathclose{}$\""
      ]
     },
     "execution_count": 50,
     "metadata": {},
     "output_type": "execute_result"
    }
   ],
   "source": [
    "latexify(coeffs_ex,cdot=false)"
   ]
  },
  {
   "cell_type": "markdown",
   "metadata": {},
   "source": [
    "We can find the local error by subtracting the exact solution B-series from the RK method B-series:"
   ]
  },
  {
   "cell_type": "code",
   "execution_count": 20,
   "metadata": {},
   "outputs": [
    {
     "data": {
      "text/latex": [
       "$\\frac{1}{80} h^{5} F_{f}\\mathopen{}\\left( \\rootedtree[[[[[]]]]] \\right)\\mathclose{} + \\frac{1}{80} h^{5} F_{f}\\mathopen{}\\left( \\rootedtree[[[[][]]]] \\right)\\mathclose{} + \\frac{3}{80} h^{5} F_{f}\\mathopen{}\\left( \\rootedtree[[[[]][]]] \\right)\\mathclose{} + \\frac{-114512864993}{248351754240} h^{5} F_{f}\\mathopen{}\\left( \\rootedtree[[[[]]][]] \\right)\\mathclose{} + \\frac{1}{80} h^{5} F_{f}\\mathopen{}\\left( \\rootedtree[[[][][]]] \\right)\\mathclose{} + \\frac{-3844175612059}{6953849118720} h^{5} F_{f}\\mathopen{}\\left( \\rootedtree[[[][]][]] \\right)\\mathclose{} + \\frac{902475437790052823}{42730909364772720000} h^{5} F_{f}\\mathopen{}\\left( \\rootedtree[[[]][[]]] \\right)\\mathclose{} + \\frac{1886254549}{40242182400} h^{5} F_{f}\\mathopen{}\\left( \\rootedtree[[[]][][]] \\right)\\mathclose{} + \\frac{1}{80} h^{5} F_{f}\\mathopen{}\\left( \\rootedtree[[][][][]] \\right)\\mathclose{}$"
      ],
      "text/plain": [
       "\"\\$\\\\frac{1}{80} h^{5} F_{f}\\\\mathopen{}\\\\left( \\\\rootedtree[[[[[]]]]] \\\\right)\\\\mathclose{} + \\\\frac{1}{80} h^{5} F_{f}\\\\mathopen{}\\\\left( \\\\rootedtree[[[[][]]]] \\\\right)\\\\mathclose{} + \\\\frac{3}{80} h^{5} F_{f}\\\\mathopen{}\\\\left( \\\\rootedtree[[[[]][]]] \\\\right)\\\\mathclose{} + \\\\frac{-11451\" ⋯ 331 bytes ⋯ \"2720000} h^{5} F_{f}\\\\mathopen{}\\\\left( \\\\rootedtree[[[]][[]]] \\\\right)\\\\mathclose{} + \\\\frac{1886254549}{40242182400} h^{5} F_{f}\\\\mathopen{}\\\\left( \\\\rootedtree[[[]][][]] \\\\right)\\\\mathclose{} + \\\\frac{1}{80} h^{5} F_{f}\\\\mathopen{}\\\\left( \\\\rootedtree[[][][][]] \\\\right)\\\\mathclose{}\\$\""
      ]
     },
     "execution_count": 20,
     "metadata": {},
     "output_type": "execute_result"
    }
   ],
   "source": [
    "latexify(coeffs4-coeffs_ex,cdot=false)"
   ]
  },
  {
   "cell_type": "markdown",
   "metadata": {},
   "source": [
    "This confirms that the method is of 4th order, since all terms involving smaller powers of $h$ vanish exactly.  We don't see the $h^6$ and higher order terms since we only generated the truncated B-series up to 5th order.\n",
    "\n",
    "For the 2nd-order method, we get:"
   ]
  },
  {
   "cell_type": "code",
   "execution_count": 21,
   "metadata": {},
   "outputs": [
    {
     "data": {
      "text/latex": [
       "$\\frac{ - h^{3}}{6} F_{f}\\mathopen{}\\left( \\rootedtree[[[]]] \\right)\\mathclose{} + h^{3} \\left( \\frac{-1}{6} + \\frac{1}{8 \\alpha} \\right) F_{f}\\mathopen{}\\left( \\rootedtree[[][]] \\right)\\mathclose{}$"
      ],
      "text/plain": [
       "L\"$\\frac{ - h^{3}}{6} F_{f}\\mathopen{}\\left( \\rootedtree[[[]]] \\right)\\mathclose{} + h^{3} \\left( \\frac{-1}{6} + \\frac{1}{8 \\alpha} \\right) F_{f}\\mathopen{}\\left( \\rootedtree[[][]] \\right)\\mathclose{}$\""
      ]
     },
     "execution_count": 21,
     "metadata": {},
     "output_type": "execute_result"
    }
   ],
   "source": [
    "latexify(coeffs2-coeffs_ex,cdot=false)"
   ]
  },
  {
   "cell_type": "markdown",
   "metadata": {},
   "source": [
    "This confirms again the accuracy of the method, and shows us that we can eliminate one of the leading error terms completely if we take $\\alpha=3/4$ (this is known as Ralston's method, or sometimes as Heun's method)."
   ]
  },
  {
   "cell_type": "markdown",
   "metadata": {},
   "source": [
    "# B-Series for a specific ODE"
   ]
  },
  {
   "cell_type": "markdown",
   "metadata": {},
   "source": [
    "Next, let us define an ODE.  We'll consider the Prothero-Robinson problem:\n",
    "\n",
    "$$\n",
    "    y'(t) = \\lambda(y-\\sin(t)) + \\cos(t).\n",
    "$$\n",
    "\n",
    "For a non-autonomous ODE like this, it's convenient to rewrite the problem in autonomous form.  We set $u=[y,t]^T$ and\n",
    "\n",
    "\\begin{align}\n",
    "u_1'(t) & = \\lambda(u_1 - \\sin(u_2)) + \\cos(u_2) \\\\\n",
    "u_2'(t) & = t.\n",
    "\\end{align}"
   ]
  },
  {
   "cell_type": "code",
   "execution_count": 34,
   "metadata": {},
   "outputs": [
    {
     "data": {
      "text/latex": [
       "$\\left[ \\begin{array}{r}λ \\left(y - \\sin{\\left(t \\right)}\\right) + \\cos{\\left(t \\right)}\\\\1\\end{array} \\right]$\n"
      ],
      "text/plain": [
       "2-element Vector{SymPy.Sym}:\n",
       " λ⋅(y - sin(t)) + cos(t)\n",
       "                       1"
      ]
     },
     "execution_count": 34,
     "metadata": {},
     "output_type": "execute_result"
    }
   ],
   "source": [
    "λ = sp.symbols(\"λ\", real=true)\n",
    "y, t = sp.symbols(\"y t\", real=true)\n",
    "h = sp.symbols(\"h\", real=true)\n",
    "\n",
    "u = [y, t]\n",
    "ff = [λ*(u[1]-sin(t))+cos(t), 1]"
   ]
  },
  {
   "cell_type": "markdown",
   "metadata": {},
   "source": [
    "Finally, we get the B-Series for our RK method applied to our ODE:"
   ]
  },
  {
   "cell_type": "code",
   "execution_count": 36,
   "metadata": {},
   "outputs": [
    {
     "data": {
      "text/latex": [
       "$\\frac{h^{5} λ^{3} \\left(λ \\left(λ \\left(y - \\sin{\\left(t \\right)}\\right) + \\cos{\\left(t \\right)}\\right) - λ \\cos{\\left(t \\right)} - \\sin{\\left(t \\right)}\\right)}{48} + \\frac{h^{5} λ^{2} \\left(λ \\sin{\\left(t \\right)} - \\cos{\\left(t \\right)}\\right)}{48} + \\frac{h^{5} λ \\left(λ \\cos{\\left(t \\right)} + \\sin{\\left(t \\right)}\\right)}{48} + \\frac{h^{5} \\left(- λ \\sin{\\left(t \\right)} + \\cos{\\left(t \\right)}\\right)}{48} + \\frac{h^{4} λ^{2} \\left(λ \\left(λ \\left(y - \\sin{\\left(t \\right)}\\right) + \\cos{\\left(t \\right)}\\right) - λ \\cos{\\left(t \\right)} - \\sin{\\left(t \\right)}\\right)}{24} + \\frac{h^{4} λ \\left(λ \\sin{\\left(t \\right)} - \\cos{\\left(t \\right)}\\right)}{24} + \\frac{h^{4} \\left(λ \\cos{\\left(t \\right)} + \\sin{\\left(t \\right)}\\right)}{24} + \\frac{h^{3} λ \\left(λ \\left(λ \\left(y - \\sin{\\left(t \\right)}\\right) + \\cos{\\left(t \\right)}\\right) - λ \\cos{\\left(t \\right)} - \\sin{\\left(t \\right)}\\right)}{6} + \\frac{h^{3} \\left(λ \\sin{\\left(t \\right)} - \\cos{\\left(t \\right)}\\right)}{6} + \\frac{h^{2} \\left(λ \\left(λ \\left(y - \\sin{\\left(t \\right)}\\right) + \\cos{\\left(t \\right)}\\right) - λ \\cos{\\left(t \\right)} - \\sin{\\left(t \\right)}\\right)}{2} + h \\left(λ \\left(y - \\sin{\\left(t \\right)}\\right) + \\cos{\\left(t \\right)}\\right) + 1$"
      ],
      "text/plain": [
       " 5  3                                                      5  2               \n",
       "h ⋅λ ⋅(λ⋅(λ⋅(y - sin(t)) + cos(t)) - λ⋅cos(t) - sin(t))   h ⋅λ ⋅(λ⋅sin(t) - co\n",
       "─────────────────────────────────────────────────────── + ────────────────────\n",
       "                           48                                         48      \n",
       "\n",
       "         5                          5                         4  2            \n",
       "s(t))   h ⋅λ⋅(λ⋅cos(t) + sin(t))   h ⋅(-λ⋅sin(t) + cos(t))   h ⋅λ ⋅(λ⋅(λ⋅(y - \n",
       "───── + ──────────────────────── + ─────────────────────── + ─────────────────\n",
       "                   48                         48                              \n",
       "\n",
       "                                          4                          4        \n",
       "sin(t)) + cos(t)) - λ⋅cos(t) - sin(t))   h ⋅λ⋅(λ⋅sin(t) - cos(t))   h ⋅(λ⋅cos(\n",
       "────────────────────────────────────── + ──────────────────────── + ──────────\n",
       "          24                                        24                        \n",
       "\n",
       "                3                                                        3    \n",
       "t) + sin(t))   h ⋅λ⋅(λ⋅(λ⋅(y - sin(t)) + cos(t)) - λ⋅cos(t) - sin(t))   h ⋅(λ⋅\n",
       "──────────── + ────────────────────────────────────────────────────── + ──────\n",
       "24                                       6                                    \n",
       "\n",
       "                    2                                                         \n",
       "sin(t) - cos(t))   h ⋅(λ⋅(λ⋅(y - sin(t)) + cos(t)) - λ⋅cos(t) - sin(t))       \n",
       "──────────────── + ──────────────────────────────────────────────────── + h⋅(λ\n",
       "    6                                       2                                 \n",
       "\n",
       "                           \n",
       "                           \n",
       "⋅(y - sin(t)) + cos(t)) + 1\n",
       "                           "
      ]
     },
     "execution_count": 36,
     "metadata": {},
     "output_type": "execute_result"
    }
   ],
   "source": [
    "evaluate(ff,u,h,coeffs4)[1]"
   ]
  },
  {
   "cell_type": "markdown",
   "metadata": {},
   "source": [
    "Notice that the series is truncated at the same order that we specified when we initially generated it from the RK coefficients."
   ]
  },
  {
   "cell_type": "markdown",
   "metadata": {},
   "source": [
    "Here's the B-Series for the exact solution of the same ODE:"
   ]
  },
  {
   "cell_type": "code",
   "execution_count": 37,
   "metadata": {},
   "outputs": [
    {
     "data": {
      "text/latex": [
       "$\\frac{h^{5} λ^{3} \\left(λ \\left(λ \\left(y - \\sin{\\left(t \\right)}\\right) + \\cos{\\left(t \\right)}\\right) - λ \\cos{\\left(t \\right)} - \\sin{\\left(t \\right)}\\right)}{120} + \\frac{h^{5} λ^{2} \\left(λ \\sin{\\left(t \\right)} - \\cos{\\left(t \\right)}\\right)}{120} + \\frac{h^{5} λ \\left(λ \\cos{\\left(t \\right)} + \\sin{\\left(t \\right)}\\right)}{120} + \\frac{h^{5} \\left(- λ \\sin{\\left(t \\right)} + \\cos{\\left(t \\right)}\\right)}{120} + \\frac{h^{4} λ^{2} \\left(λ \\left(λ \\left(y - \\sin{\\left(t \\right)}\\right) + \\cos{\\left(t \\right)}\\right) - λ \\cos{\\left(t \\right)} - \\sin{\\left(t \\right)}\\right)}{24} + \\frac{h^{4} λ \\left(λ \\sin{\\left(t \\right)} - \\cos{\\left(t \\right)}\\right)}{24} + \\frac{h^{4} \\left(λ \\cos{\\left(t \\right)} + \\sin{\\left(t \\right)}\\right)}{24} + \\frac{h^{3} λ \\left(λ \\left(λ \\left(y - \\sin{\\left(t \\right)}\\right) + \\cos{\\left(t \\right)}\\right) - λ \\cos{\\left(t \\right)} - \\sin{\\left(t \\right)}\\right)}{6} + \\frac{h^{3} \\left(λ \\sin{\\left(t \\right)} - \\cos{\\left(t \\right)}\\right)}{6} + \\frac{h^{2} \\left(λ \\left(λ \\left(y - \\sin{\\left(t \\right)}\\right) + \\cos{\\left(t \\right)}\\right) - λ \\cos{\\left(t \\right)} - \\sin{\\left(t \\right)}\\right)}{2} + h \\left(λ \\left(y - \\sin{\\left(t \\right)}\\right) + \\cos{\\left(t \\right)}\\right) + 1$"
      ],
      "text/plain": [
       " 5  3                                                      5  2               \n",
       "h ⋅λ ⋅(λ⋅(λ⋅(y - sin(t)) + cos(t)) - λ⋅cos(t) - sin(t))   h ⋅λ ⋅(λ⋅sin(t) - co\n",
       "─────────────────────────────────────────────────────── + ────────────────────\n",
       "                          120                                        120      \n",
       "\n",
       "         5                          5                         4  2            \n",
       "s(t))   h ⋅λ⋅(λ⋅cos(t) + sin(t))   h ⋅(-λ⋅sin(t) + cos(t))   h ⋅λ ⋅(λ⋅(λ⋅(y - \n",
       "───── + ──────────────────────── + ─────────────────────── + ─────────────────\n",
       "                  120                        120                              \n",
       "\n",
       "                                          4                          4        \n",
       "sin(t)) + cos(t)) - λ⋅cos(t) - sin(t))   h ⋅λ⋅(λ⋅sin(t) - cos(t))   h ⋅(λ⋅cos(\n",
       "────────────────────────────────────── + ──────────────────────── + ──────────\n",
       "          24                                        24                        \n",
       "\n",
       "                3                                                        3    \n",
       "t) + sin(t))   h ⋅λ⋅(λ⋅(λ⋅(y - sin(t)) + cos(t)) - λ⋅cos(t) - sin(t))   h ⋅(λ⋅\n",
       "──────────── + ────────────────────────────────────────────────────── + ──────\n",
       "24                                       6                                    \n",
       "\n",
       "                    2                                                         \n",
       "sin(t) - cos(t))   h ⋅(λ⋅(λ⋅(y - sin(t)) + cos(t)) - λ⋅cos(t) - sin(t))       \n",
       "──────────────── + ──────────────────────────────────────────────────── + h⋅(λ\n",
       "    6                                       2                                 \n",
       "\n",
       "                           \n",
       "                           \n",
       "⋅(y - sin(t)) + cos(t)) + 1\n",
       "                           "
      ]
     },
     "execution_count": 37,
     "metadata": {},
     "output_type": "execute_result"
    }
   ],
   "source": [
    "evaluate(ff,u,h,coeffs_ex)[1]"
   ]
  },
  {
   "cell_type": "markdown",
   "metadata": {},
   "source": [
    "And their difference, which is the local error:"
   ]
  },
  {
   "cell_type": "code",
   "execution_count": 38,
   "metadata": {},
   "outputs": [
    {
     "data": {
      "text/latex": [
       "$\\frac{h^{5} λ^{3} \\left(λ \\left(λ \\left(y - \\sin{\\left(t \\right)}\\right) + \\cos{\\left(t \\right)}\\right) - λ \\cos{\\left(t \\right)} - \\sin{\\left(t \\right)}\\right)}{80} + \\frac{h^{5} λ^{2} \\left(λ \\sin{\\left(t \\right)} - \\cos{\\left(t \\right)}\\right)}{80} + \\frac{h^{5} λ \\left(λ \\cos{\\left(t \\right)} + \\sin{\\left(t \\right)}\\right)}{80} + \\frac{h^{5} \\left(- λ \\sin{\\left(t \\right)} + \\cos{\\left(t \\right)}\\right)}{80}$"
      ],
      "text/plain": [
       " 5  3                                                      5  2               \n",
       "h ⋅λ ⋅(λ⋅(λ⋅(y - sin(t)) + cos(t)) - λ⋅cos(t) - sin(t))   h ⋅λ ⋅(λ⋅sin(t) - co\n",
       "─────────────────────────────────────────────────────── + ────────────────────\n",
       "                           80                                         80      \n",
       "\n",
       "         5                          5                     \n",
       "s(t))   h ⋅λ⋅(λ⋅cos(t) + sin(t))   h ⋅(-λ⋅sin(t) + cos(t))\n",
       "───── + ──────────────────────── + ───────────────────────\n",
       "                   80                         80          "
      ]
     },
     "execution_count": 38,
     "metadata": {},
     "output_type": "execute_result"
    }
   ],
   "source": [
    "expr = simplify(evaluate(ff,u,h,coeffs4)-evaluate(ff,u,h,coeffs_ex))[1]"
   ]
  },
  {
   "cell_type": "markdown",
   "metadata": {},
   "source": [
    "Because of the simplicity of the PR problem, the error has a relatively simple form:"
   ]
  },
  {
   "cell_type": "code",
   "execution_count": 39,
   "metadata": {},
   "outputs": [
    {
     "data": {
      "text/latex": [
       "$\\frac{h^{5} \\left(y λ^{5} - λ^{5} \\sin{\\left(t \\right)} + \\cos{\\left(t \\right)}\\right)}{80}$"
      ],
      "text/plain": [
       " 5 ⎛   5    5                ⎞\n",
       "h ⋅⎝y⋅λ  - λ ⋅sin(t) + cos(t)⎠\n",
       "──────────────────────────────\n",
       "              80              "
      ]
     },
     "execution_count": 39,
     "metadata": {},
     "output_type": "execute_result"
    }
   ],
   "source": [
    "sp.simplify(expand(expr))"
   ]
  },
  {
   "cell_type": "code",
   "execution_count": 40,
   "metadata": {},
   "outputs": [
    {
     "data": {
      "text/latex": [
       "$\\frac{h^{5} \\cos{\\left(t \\right)}}{80} + λ^{5} \\left(\\frac{h^{5} y}{80} - \\frac{h^{5} \\sin{\\left(t \\right)}}{80}\\right)$"
      ],
      "text/plain": [
       " 5             ⎛ 5      5       ⎞\n",
       "h ⋅cos(t)    5 ⎜h ⋅y   h ⋅sin(t)⎟\n",
       "───────── + λ ⋅⎜──── - ─────────⎟\n",
       "    80         ⎝ 80        80   ⎠"
      ]
     },
     "execution_count": 40,
     "metadata": {},
     "output_type": "execute_result"
    }
   ],
   "source": [
    "sp.collect(sp.expand(expr),λ)"
   ]
  },
  {
   "cell_type": "markdown",
   "metadata": {},
   "source": [
    "# B-series for a generic RK method"
   ]
  },
  {
   "cell_type": "markdown",
   "metadata": {},
   "source": [
    "We can also examine just the elementary differentials, without specifying a RK method:"
   ]
  },
  {
   "cell_type": "code",
   "execution_count": 43,
   "metadata": {},
   "outputs": [
    {
     "data": {
      "text/plain": [
       "OrderedDict{RootedTree{Int64, Vector{Int64}}, Vector{SymPy.Sym}} with 18 entries:\n",
       "  RootedTree{Int64}: Int64[]         => [1, 1]\n",
       "  RootedTree{Int64}: [1]             => [λ*(y - sin(t)) + cos(t), 1]\n",
       "  RootedTree{Int64}: [1, 2]          => [λ*(λ*(y - sin(t)) + cos(t)) - λ*cos(t)…\n",
       "  RootedTree{Int64}: [1, 2, 3]       => [λ*(λ*(λ*(y - sin(t)) + cos(t)) - λ*cos…\n",
       "  RootedTree{Int64}: [1, 2, 2]       => [λ*sin(t) - cos(t), 0]\n",
       "  RootedTree{Int64}: [1, 2, 3, 4]    => [λ^2*(λ*(λ*(y - sin(t)) + cos(t)) - λ*c…\n",
       "  RootedTree{Int64}: [1, 2, 3, 3]    => [λ*(λ*sin(t) - cos(t)), 0]\n",
       "  RootedTree{Int64}: [1, 2, 3, 2]    => [0, 0]\n",
       "  RootedTree{Int64}: [1, 2, 2, 2]    => [λ*cos(t) + sin(t), 0]\n",
       "  RootedTree{Int64}: [1, 2, 3, 4, 5] => [λ^3*(λ*(λ*(y - sin(t)) + cos(t)) - λ*c…\n",
       "  RootedTree{Int64}: [1, 2, 3, 4, 4] => [λ^2*(λ*sin(t) - cos(t)), 0]\n",
       "  RootedTree{Int64}: [1, 2, 3, 4, 3] => [0, 0]\n",
       "  RootedTree{Int64}: [1, 2, 3, 4, 2] => [0, 0]\n",
       "  RootedTree{Int64}: [1, 2, 3, 3, 3] => [λ*(λ*cos(t) + sin(t)), 0]\n",
       "  RootedTree{Int64}: [1, 2, 3, 3, 2] => [0, 0]\n",
       "  RootedTree{Int64}: [1, 2, 3, 2, 3] => [0, 0]\n",
       "  RootedTree{Int64}: [1, 2, 3, 2, 2] => [0, 0]\n",
       "  RootedTree{Int64}: [1, 2, 2, 2, 2] => [-λ*sin(t) + cos(t), 0]"
      ]
     },
     "execution_count": 43,
     "metadata": {},
     "output_type": "execute_result"
    }
   ],
   "source": [
    "elementary_differentials(ff,u,5)"
   ]
  }
 ],
 "metadata": {
  "kernelspec": {
   "display_name": "Julia 1.7.2",
   "language": "julia",
   "name": "julia-1.7"
  },
  "language_info": {
   "file_extension": ".jl",
   "mimetype": "application/julia",
   "name": "julia",
   "version": "1.7.2"
  },
  "toc": {
   "base_numbering": 1,
   "nav_menu": {},
   "number_sections": true,
   "sideBar": true,
   "skip_h1_title": false,
   "title_cell": "Table of Contents",
   "title_sidebar": "Contents",
   "toc_cell": false,
   "toc_position": {},
   "toc_section_display": true,
   "toc_window_display": false
  }
 },
 "nbformat": 4,
 "nbformat_minor": 2
}
