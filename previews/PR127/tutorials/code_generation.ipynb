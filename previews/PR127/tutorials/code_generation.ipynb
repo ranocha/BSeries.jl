{
 "cells": [
  {
   "cell_type": "markdown",
   "id": "830cb447",
   "metadata": {},
   "source": [
    "# Code generation\n",
    "This tutorial shows how to generate C code to compute expressions found using [BSeries.jl](https://github.com/ranocha/BSeries.jl).  Although [BSeries.jl](https://github.com/ranocha/BSeries.jl) is compatible with three [symbolic backends](https://ranocha.de/BSeries.jl/dev/tutorials/symbolic_computations/), it's currently easiest to perform code generation using [Symbolics.jl](https://github.com/JuliaSymbolics/Symbolics.jl)."
   ]
  },
  {
   "cell_type": "markdown",
   "id": "67d93c30",
   "metadata": {},
   "source": [
    "First, we generate the B-series that we want work with.  Here we take a generics 2nd-order RK method and generate terms only up to 3rd order, in order to work with the leading truncation error."
   ]
  },
  {
   "cell_type": "code",
   "execution_count": null,
   "id": "d39ad50a",
   "metadata": {},
   "outputs": [],
   "source": [
    "using BSeries, Latexify, Symbolics\n",
    "\n",
    "@variables α\n",
    "A = [0 0; 1/(2*α) 0]; b = [1-α, α]; c = [0, 1/(2*α)]\n",
    "\n",
    "RK22 = bseries(A, b, c, 3)\n",
    "exact = ExactSolution(RK22)\n",
    "truncation_error = RK22-exact"
   ]
  },
  {
   "cell_type": "markdown",
   "id": "a65e3bdc",
   "metadata": {},
   "source": [
    "Next we set up the ODE of interest, and evaluate the B-series with that right-hand side."
   ]
  },
  {
   "cell_type": "code",
   "execution_count": null,
   "id": "a196ad25",
   "metadata": {},
   "outputs": [],
   "source": [
    "@variables h\n",
    "@variables p q\n",
    "f = [p * (2 - q), q * (p - 1)]\n",
    "\n",
    "du = evaluate(f,[p,q],h,RK22-exact)"
   ]
  },
  {
   "cell_type": "markdown",
   "id": "bfcb7b2b",
   "metadata": {},
   "source": [
    "Finally, we generate a C function that evaluates the expressions above."
   ]
  },
  {
   "cell_type": "code",
   "execution_count": null,
   "id": "a54565b1",
   "metadata": {},
   "outputs": [],
   "source": [
    "build_function(du, α, p, q, h, target=Symbolics.CTarget())"
   ]
  },
  {
   "cell_type": "markdown",
   "id": "3652ffc3",
   "metadata": {},
   "source": [
    "The [Symbolics.jl](https://github.com/JuliaSymbolics/Symbolics.jl) routine `build_function` can also generate code in Julia, MATLAB, and Stan; see the [documentation](https://symbolics.juliasymbolics.org/stable/manual/build_function/#build_function) for details and other options."
   ]
  }
 ],
 "metadata": {
  "kernelspec": {
   "display_name": "Julia 1.7.2",
   "language": "julia",
   "name": "julia-1.7"
  },
  "language_info": {
   "file_extension": ".jl",
   "mimetype": "application/julia",
   "name": "julia",
   "version": "1.7.2"
  }
 },
 "nbformat": 4,
 "nbformat_minor": 5
}
